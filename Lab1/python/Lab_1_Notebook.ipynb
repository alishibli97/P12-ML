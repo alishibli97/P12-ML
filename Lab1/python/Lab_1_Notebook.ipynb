{
 "cells": [
  {
   "cell_type": "markdown",
   "metadata": {},
   "source": [
    "## Assignment 0\n",
    " **Each one of the datasets has properties which makes\n",
    "them hard to learn. Motivate which of the three problems is most\n",
    "difficult for a decision tree algorithm to learn.**\n"
   ]
  },
  {
   "cell_type": "markdown",
   "metadata": {},
   "source": [
    "Monk1 : (a1 = a2) V (a5 = 1), Best Case 1, Worst Case 2\n",
    "\n",
    "Monk2 : ai = 1 for exacly two i ∈ {1, 2, . . . , 6}, Best Case = Worst Case 6\n",
    "\n",
    "Monk3 : (a5 = 1 ∧ a4 = 1) ∨ (a5 != 4 ∧ a2 != 3), Best Case 2, Worst Case 4\n",
    "\n",
    "The dataset with higher worst case is the most difficult tree to learn for a decision tree algorithm."
   ]
  },
  {
   "cell_type": "markdown",
   "metadata": {},
   "source": [
    "## Assignment 1\n",
    "**Calculate the entropy of the training\n",
    "datasets.**"
   ]
  },
  {
   "cell_type": "code",
   "execution_count": 1,
   "metadata": {},
   "outputs": [],
   "source": [
    "import monkdata as m\n",
    "import dtree"
   ]
  },
  {
   "cell_type": "code",
   "execution_count": 2,
   "metadata": {
    "scrolled": false
   },
   "outputs": [
    {
     "name": "stdout",
     "output_type": "stream",
     "text": [
      "1.0\n",
      "0.957117428264771\n",
      "0.9998061328047111\n"
     ]
    }
   ],
   "source": [
    "entropy1 = dtree.entropy(m.monk1)\n",
    "entropy2 = dtree.entropy(m.monk2)\n",
    "entropy3 = dtree.entropy(m.monk3)\n",
    "\n",
    "print(entropy1)\n",
    "print(entropy2)\n",
    "print(entropy3)"
   ]
  },
  {
   "cell_type": "markdown",
   "metadata": {},
   "source": [
    "## Assignment 2\n",
    "**Explain entropy for a uniform distribution and a\n",
    "non-uniform distribution, present some example distributions with\n",
    "high and low entropy.**\n"
   ]
  },
  {
   "cell_type": "markdown",
   "metadata": {},
   "source": [
    "Uniform (least informative distribution) -> Maximized entropy -> 1.0\n",
    "\n",
    "Non Uniform -> != 1.0\n",
    "\n",
    "In an uniform distribution, all the datapoints have the same probability so we have no clue about the outcome, and thus maximum entropy. In a non uniform distribution some datapoints have higher probability than others, so we can estimate a possible outcome which implies lower entropy.\n",
    "\n",
    "*Examples:*\n",
    "\n",
    "High Entropy: [ 1, 1, 1, 2, 2, 2, 3, 3, 3, 4, 4, 4 ]\n",
    "\n",
    "Low Entropy: [ 1, 1, 1, 1, 1, 1, 1, 1, 1, 1, 2, 3, ]"
   ]
  },
  {
   "cell_type": "markdown",
   "metadata": {},
   "source": [
    "## Assignment 3\n",
    "**Use the function averageGain (defined in dtree.py)\n",
    "to calculate the expected information gain corresponding to each of\n",
    "the six attributes. Note that the attributes are represented as instances of the class Attribute (defined in monkdata.py) which you\n",
    "can access via m.attributes[0], ..., m.attributes[5]. Based on\n",
    "the results, which attribute should be used for splitting the examples\n",
    "at the root node?**"
   ]
  },
  {
   "cell_type": "code",
   "execution_count": 3,
   "metadata": {},
   "outputs": [],
   "source": [
    "import pandas as pd\n",
    "num_attributes = len(m.attributes)"
   ]
  },
  {
   "cell_type": "code",
   "execution_count": 4,
   "metadata": {},
   "outputs": [
    {
     "data": {
      "text/html": [
       "<div>\n",
       "<style scoped>\n",
       "    .dataframe tbody tr th:only-of-type {\n",
       "        vertical-align: middle;\n",
       "    }\n",
       "\n",
       "    .dataframe tbody tr th {\n",
       "        vertical-align: top;\n",
       "    }\n",
       "\n",
       "    .dataframe thead th {\n",
       "        text-align: right;\n",
       "    }\n",
       "</style>\n",
       "<table border=\"1\" class=\"dataframe\">\n",
       "  <thead>\n",
       "    <tr style=\"text-align: right;\">\n",
       "      <th></th>\n",
       "      <th>a1</th>\n",
       "      <th>a2</th>\n",
       "      <th>a3</th>\n",
       "      <th>a4</th>\n",
       "      <th>a5</th>\n",
       "      <th>a6</th>\n",
       "    </tr>\n",
       "  </thead>\n",
       "  <tbody>\n",
       "    <tr>\n",
       "      <th>monk1</th>\n",
       "      <td>0.075273</td>\n",
       "      <td>0.005838</td>\n",
       "      <td>0.004708</td>\n",
       "      <td>0.026312</td>\n",
       "      <td>0.287031</td>\n",
       "      <td>0.000758</td>\n",
       "    </tr>\n",
       "    <tr>\n",
       "      <th>monk2</th>\n",
       "      <td>0.003756</td>\n",
       "      <td>0.002458</td>\n",
       "      <td>0.001056</td>\n",
       "      <td>0.015664</td>\n",
       "      <td>0.017277</td>\n",
       "      <td>0.006248</td>\n",
       "    </tr>\n",
       "    <tr>\n",
       "      <th>monk3</th>\n",
       "      <td>0.007121</td>\n",
       "      <td>0.293736</td>\n",
       "      <td>0.000831</td>\n",
       "      <td>0.002892</td>\n",
       "      <td>0.255912</td>\n",
       "      <td>0.007077</td>\n",
       "    </tr>\n",
       "  </tbody>\n",
       "</table>\n",
       "</div>"
      ],
      "text/plain": [
       "             a1        a2        a3        a4        a5        a6\n",
       "monk1  0.075273  0.005838  0.004708  0.026312  0.287031  0.000758\n",
       "monk2  0.003756  0.002458  0.001056  0.015664  0.017277  0.006248\n",
       "monk3  0.007121  0.293736  0.000831  0.002892  0.255912  0.007077"
      ]
     },
     "execution_count": 4,
     "metadata": {},
     "output_type": "execute_result"
    }
   ],
   "source": [
    "gain_monk1 = [ dtree.averageGain(m.monk1,m.attributes[i]) for i in range(num_attributes) ]\n",
    "gain_monk2 = [ dtree.averageGain(m.monk2,m.attributes[i]) for i in range(num_attributes) ]\n",
    "gain_monk3 = [ dtree.averageGain(m.monk3,m.attributes[i]) for i in range(num_attributes) ]\n",
    "\n",
    "pd.DataFrame([gain_monk1, gain_monk2, gain_monk3], columns=[\"a1\", \"a2\", \"a3\", \"a4\", \"a5\", \"a6\"], index=[\"monk1\", \"monk2\", \"monk3\"])"
   ]
  },
  {
   "cell_type": "markdown",
   "metadata": {},
   "source": [
    "**Based on the results, which attribute should be used for splitting the examples\n",
    "at the root node?**"
   ]
  },
  {
   "cell_type": "code",
   "execution_count": 5,
   "metadata": {},
   "outputs": [
    {
     "name": "stdout",
     "output_type": "stream",
     "text": [
      "Monk1:  5 0.28703074971578435\n",
      "Monk2:  5 0.01727717693791797\n",
      "Monk3:  2 0.29373617350838865\n"
     ]
    }
   ],
   "source": [
    "max1 = gain_monk1.index(max(gain_monk1))\n",
    "max2 = gain_monk2.index(max(gain_monk2))\n",
    "max3 = gain_monk3.index(max(gain_monk3))\n",
    "\n",
    "print(\"Monk1: \", gain_monk1.index(max(gain_monk1))+1, max(gain_monk1))\n",
    "print(\"Monk2: \", gain_monk2.index(max(gain_monk2))+1, max(gain_monk2))\n",
    "print(\"Monk3: \", gain_monk3.index(max(gain_monk3))+1, max(gain_monk3))"
   ]
  },
  {
   "cell_type": "markdown",
   "metadata": {},
   "source": [
    "## Assignment 4\n",
    "**For splitting we choose the attribute that maximizes\n",
    "the information gain, Eq.3. Looking at Eq.3 how does the entropy of\n",
    "the subsets, Sk, look like when the information gain is maximized?\n",
    "How can we motivate using the information gain as a heuristic for\n",
    "picking an attribute for splitting? Think about reduction in entropy\n",
    "after the split and what the entropy implies.**"
   ]
  },
  {
   "cell_type": "markdown",
   "metadata": {},
   "source": [
    "The Entropy of the subsets S_k should be minimum when the information gain is maximized, because we need the subsets to be as compact as possible and so their randomness should be minimum. \n",
    "\n",
    "Max IG => minimum entropy for each subset S_k => Good division of dataset. "
   ]
  },
  {
   "cell_type": "markdown",
   "metadata": {},
   "source": [
    "## Assignment 5"
   ]
  },
  {
   "cell_type": "code",
   "execution_count": 6,
   "metadata": {},
   "outputs": [],
   "source": [
    "import drawtree_qt5 as d"
   ]
  },
  {
   "cell_type": "markdown",
   "metadata": {},
   "source": [
    "**Split the monk1 data into subsets according to the selected attribute using\n",
    "the function select (again, defined in dtree.py) and compute the information gains for the nodes on the next level of the tree.**"
   ]
  },
  {
   "cell_type": "code",
   "execution_count": 7,
   "metadata": {},
   "outputs": [
    {
     "data": {
      "text/html": [
       "<div>\n",
       "<style scoped>\n",
       "    .dataframe tbody tr th:only-of-type {\n",
       "        vertical-align: middle;\n",
       "    }\n",
       "\n",
       "    .dataframe tbody tr th {\n",
       "        vertical-align: top;\n",
       "    }\n",
       "\n",
       "    .dataframe thead th {\n",
       "        text-align: right;\n",
       "    }\n",
       "</style>\n",
       "<table border=\"1\" class=\"dataframe\">\n",
       "  <thead>\n",
       "    <tr style=\"text-align: right;\">\n",
       "      <th></th>\n",
       "      <th>a1</th>\n",
       "      <th>a2</th>\n",
       "      <th>a3</th>\n",
       "      <th>a4</th>\n",
       "      <th>a5</th>\n",
       "      <th>a6</th>\n",
       "    </tr>\n",
       "  </thead>\n",
       "  <tbody>\n",
       "    <tr>\n",
       "      <th>a5=1</th>\n",
       "      <td>0.000000</td>\n",
       "      <td>0.000000</td>\n",
       "      <td>0.000000</td>\n",
       "      <td>0.000000</td>\n",
       "      <td>0.0</td>\n",
       "      <td>0.000000</td>\n",
       "    </tr>\n",
       "    <tr>\n",
       "      <th>a5=2</th>\n",
       "      <td>0.040217</td>\n",
       "      <td>0.015063</td>\n",
       "      <td>0.037273</td>\n",
       "      <td>0.048892</td>\n",
       "      <td>0.0</td>\n",
       "      <td>0.025807</td>\n",
       "    </tr>\n",
       "    <tr>\n",
       "      <th>a5=3</th>\n",
       "      <td>0.033055</td>\n",
       "      <td>0.002197</td>\n",
       "      <td>0.017982</td>\n",
       "      <td>0.019123</td>\n",
       "      <td>0.0</td>\n",
       "      <td>0.045109</td>\n",
       "    </tr>\n",
       "    <tr>\n",
       "      <th>a5=4</th>\n",
       "      <td>0.206291</td>\n",
       "      <td>0.033898</td>\n",
       "      <td>0.025906</td>\n",
       "      <td>0.075933</td>\n",
       "      <td>0.0</td>\n",
       "      <td>0.003324</td>\n",
       "    </tr>\n",
       "  </tbody>\n",
       "</table>\n",
       "</div>"
      ],
      "text/plain": [
       "            a1        a2        a3        a4   a5        a6\n",
       "a5=1  0.000000  0.000000  0.000000  0.000000  0.0  0.000000\n",
       "a5=2  0.040217  0.015063  0.037273  0.048892  0.0  0.025807\n",
       "a5=3  0.033055  0.002197  0.017982  0.019123  0.0  0.045109\n",
       "a5=4  0.206291  0.033898  0.025906  0.075933  0.0  0.003324"
      ]
     },
     "execution_count": 7,
     "metadata": {},
     "output_type": "execute_result"
    }
   ],
   "source": [
    "monk1_subsets = [ dtree.select(m.monk1,m.attributes[max1],i) for i in m.attributes[max1].values ]\n",
    "gain_monk1_subsets = [ \n",
    "        [  dtree.averageGain(monk1_subsets[i], m.attributes[j]) \n",
    "             for j in range(num_attributes) \n",
    "        ] \n",
    "        for i in range(len(monk1_subsets))\n",
    "]\n",
    "pd.DataFrame(gain_monk1_subsets, columns=[\"a1\", \"a2\", \"a3\", \"a4\", \"a5\", \"a6\"], index=[\"a5=1\", \"a5=2\", \"a5=3\", \"a5=4\"])"
   ]
  },
  {
   "cell_type": "markdown",
   "metadata": {},
   "source": [
    "**Which attributes should be tested for these nodes?**\n",
    "\n",
    "For the subset a5=1 all the samples belongs to the same class (True) so the information gain is 0 and it is not necessary to branch more."
   ]
  },
  {
   "cell_type": "code",
   "execution_count": 8,
   "metadata": {},
   "outputs": [
    {
     "data": {
      "text/plain": [
       "a2    4\n",
       "a3    6\n",
       "a4    1\n",
       "dtype: int64"
      ]
     },
     "execution_count": 8,
     "metadata": {},
     "output_type": "execute_result"
    }
   ],
   "source": [
    "max_sub1 = [ gain_monk1_subsets[i].index(max(gain_monk1_subsets[i]))+1 for i in range(1, len(monk1_subsets))]\n",
    "pd.Series(max_sub1, index=[\"a2\", \"a3\", \"a4\"])"
   ]
  },
  {
   "cell_type": "code",
   "execution_count": 9,
   "metadata": {
    "scrolled": true
   },
   "outputs": [
    {
     "name": "stdout",
     "output_type": "stream",
     "text": [
      "[True, False, False, False]\n",
      "A5(+---)\n"
     ]
    }
   ],
   "source": [
    "most_commons = [ dtree.mostCommon(monk1_subsets[i]) for i in range(len(monk1_subsets)) ]\n",
    "print(most_commons)\n",
    "\n",
    "comp_t = dtree.buildTree(m.monk1,m.attributes, 1)\n",
    "\n",
    "print(comp_t)\n",
    "\n",
    "#DRAW TREE\n",
    "#d.drawTree(comp_t)"
   ]
  },
  {
   "cell_type": "markdown",
   "metadata": {},
   "source": [
    "**Build the full decision trees for all three Monk\n",
    "datasets using buildTree. Then, use the function check to measure the performance of the decision tree on both the training and\n",
    "test datasets.**"
   ]
  },
  {
   "cell_type": "code",
   "execution_count": 10,
   "metadata": {},
   "outputs": [
    {
     "data": {
      "text/html": [
       "<div>\n",
       "<style scoped>\n",
       "    .dataframe tbody tr th:only-of-type {\n",
       "        vertical-align: middle;\n",
       "    }\n",
       "\n",
       "    .dataframe tbody tr th {\n",
       "        vertical-align: top;\n",
       "    }\n",
       "\n",
       "    .dataframe thead th {\n",
       "        text-align: right;\n",
       "    }\n",
       "</style>\n",
       "<table border=\"1\" class=\"dataframe\">\n",
       "  <thead>\n",
       "    <tr style=\"text-align: right;\">\n",
       "      <th></th>\n",
       "      <th>Err. Train</th>\n",
       "      <th>Err. Test</th>\n",
       "    </tr>\n",
       "  </thead>\n",
       "  <tbody>\n",
       "    <tr>\n",
       "      <th>monk1</th>\n",
       "      <td>0.0</td>\n",
       "      <td>0.171296</td>\n",
       "    </tr>\n",
       "    <tr>\n",
       "      <th>monk2</th>\n",
       "      <td>0.0</td>\n",
       "      <td>0.307870</td>\n",
       "    </tr>\n",
       "    <tr>\n",
       "      <th>monk3</th>\n",
       "      <td>0.0</td>\n",
       "      <td>0.055556</td>\n",
       "    </tr>\n",
       "  </tbody>\n",
       "</table>\n",
       "</div>"
      ],
      "text/plain": [
       "       Err. Train  Err. Test\n",
       "monk1         0.0   0.171296\n",
       "monk2         0.0   0.307870\n",
       "monk3         0.0   0.055556"
      ]
     },
     "execution_count": 10,
     "metadata": {},
     "output_type": "execute_result"
    }
   ],
   "source": [
    "t1=dtree.buildTree(m.monk1,m.attributes)\n",
    "t2=dtree.buildTree(m.monk2,m.attributes)\n",
    "t3=dtree.buildTree(m.monk3,m.attributes)\n",
    "\n",
    "pd.DataFrame(\n",
    "    [[1-dtree.check(t1, m.monk1), 1-dtree.check(t1, m.monk1test)], \n",
    "     [1-dtree.check(t2, m.monk2), 1-dtree.check(t2, m.monk2test)],\n",
    "     [1-dtree.check(t3, m.monk3), 1-dtree.check(t3, m.monk3test)]\n",
    "    ],    \n",
    "    columns=[\"Err. Train\", \"Err. Test\"],\n",
    "    index=[\"monk1\", \"monk2\", \"monk3\"]\n",
    ")"
   ]
  },
  {
   "cell_type": "markdown",
   "metadata": {},
   "source": [
    "**Compute the train and test set errors for the three Monk datasets\n",
    "for the full trees. Were your assumptions about the datasets correct?\n",
    "Explain the results you get for the training and test datasets.**"
   ]
  },
  {
   "cell_type": "markdown",
   "metadata": {},
   "source": [
    "We assumed that monk3 has lowest error because of the 5% introduced noise, that led the model to generalize better to the test set.\n",
    "\n",
    "We were expecting that the hierarchy of error would be:\n",
    "1-Monk2: it needed 6 questions in the best and worst case\n",
    "2-Monk3: it needed 4 questions in the worst case and 2 questions in the best case\n",
    "3-Monk1: it needed 2 questions in the worst case and 1 question in the best case \n",
    "\n",
    "Results showed that Monk3 has the least error, and we assume that is the case because of the introduced noise.\n",
    "So as the hierarchy follows, Monk2 had the highest error, and then Monk1 followed.\n",
    "\n",
    "For the training and testing results:\n",
    "The training set will generally result in lower error (0.0 in this case) since we used it to train the model initially, and the model already saw the data.\n",
    "Vice versa, the test set is the new unseen data and the model will result in higher error on it."
   ]
  },
  {
   "cell_type": "markdown",
   "metadata": {},
   "source": [
    "## Assignment 6\n",
    "**Write code which performs the complete pruning by repeatedly calling\n",
    "allPruned and picking the tree which gives the best classification performance on the validation dataset. You should stop pruning when all the\n",
    "pruned trees perform worse than the current candidate.**"
   ]
  },
  {
   "cell_type": "code",
   "execution_count": 11,
   "metadata": {},
   "outputs": [],
   "source": [
    "import random\n",
    "\n",
    "def partition(data, fraction):\n",
    "    ldata = list(data)\n",
    "    random.shuffle(ldata)\n",
    "    breakPoint = int(len(ldata) * fraction)\n",
    "    return ldata[:breakPoint], ldata[breakPoint:]"
   ]
  },
  {
   "cell_type": "code",
   "execution_count": 12,
   "metadata": {
    "scrolled": true
   },
   "outputs": [],
   "source": [
    "\n",
    "def bestTreeAfterPruning(train, val):\n",
    "    current_tree = dtree.buildTree(train,m.attributes)\n",
    "    current_acc = dtree.check(current_tree, val)\n",
    "    #print(\"Error before pruning is:\", 1-current_acc)\n",
    "\n",
    "    list_trees = dtree.allPruned(current_tree)\n",
    "    accuracies = [dtree.check(tree, val) for tree in list_trees]\n",
    "    best_acc = max(accuracies)\n",
    "    best_tree = list_trees[accuracies.index(best_acc)]\n",
    "\n",
    "    while(current_acc < best_acc):\n",
    "        best_acc=current_acc\n",
    "        list_trees = dtree.allPruned(current_tree)\n",
    "        accuracies = [dtree.check(tree, val) for tree in list_trees]\n",
    "        current_acc = max(accuracies)\n",
    "        best_tree = list_trees[accuracies.index(current_acc)]\n",
    "\n",
    "    #print(\"Error afer pruning is:\",1-current_acc)\n",
    "    return best_tree"
   ]
  },
  {
   "cell_type": "markdown",
   "metadata": {},
   "source": [
    "**Explain pruning from a bias variance trade-off perspective.**\n",
    "\n",
    "Pruning a decision tree reduces the variance by removing unnecessary sections of the tree and thus reducing complexity of the model.  \n",
    "Pruning tends to decrease bias as it selects the tree having best accuracy (lowest error)."
   ]
  },
  {
   "cell_type": "markdown",
   "metadata": {},
   "source": [
    "## Assignment 7\n",
    "**Evaluate the effect pruning has on the test error for\n",
    "the monk1 and monk3 datasets, in particular determine the optimal\n",
    "partition into training and pruning by optimizing the parameter\n",
    "fraction. Plot the classification error on the test sets as a function\n",
    "of the parameter fraction ∈ {0.3, 0.4, 0.5, 0.6, 0.7, 0.8}.**\n"
   ]
  },
  {
   "cell_type": "code",
   "execution_count": 13,
   "metadata": {},
   "outputs": [],
   "source": [
    "import matplotlib.pyplot as plt\n",
    "from matplotlib.pyplot import figure\n",
    "import numpy as np"
   ]
  },
  {
   "cell_type": "code",
   "execution_count": 14,
   "metadata": {},
   "outputs": [],
   "source": [
    "list1_avg = [] # y-axis for monk1 avg\n",
    "list3_avg = [] # y-axis for monk3 avg\n",
    "list1_std = [] # y-axis for monk1 std\n",
    "list3_std = [] # y-axis for monk3 std\n",
    "\n",
    "list_fractions1 = []\n",
    "list_fractions3 = []\n",
    "\n",
    "fractions = [0.3, 0.4, 0.5, 0.6, 0.7, 0.8] # fractions on x-axis\n",
    "\n",
    "for fraction in fractions:\n",
    "    #print(\"\\nFor Monk1 dataset with fraction \", fraction, \":\")\n",
    "    \n",
    "    for i in range(1000):\n",
    "        monk1train, monk1val = partition(m.monk1, fraction)\n",
    "        list_fractions1.append(1-dtree.check(bestTreeAfterPruning(monk1train, monk1val), m.monk1test))\n",
    "    avg = np.mean(list_fractions1)\n",
    "    std = np.std(list_fractions1)\n",
    "    list1_avg.append(avg)\n",
    "    list1_std.append(std)\n",
    "    \n",
    "    #print(\"\\nFor Monk3 dataset with fraction \", fraction, \":\")\n",
    "    for i in range(1000):\n",
    "        monk3train, monk3val = partition(m.monk3, fraction)\n",
    "        list_fractions3.append(1-dtree.check(bestTreeAfterPruning(monk3train, monk3val), m.monk3test))\n",
    "    avg = np.mean(list_fractions3)\n",
    "    std = np.std(list_fractions3)\n",
    "    list3_avg.append(avg)\n",
    "    list3_std.append(std)\n",
    "\n",
    "    \n",
    "    list_fractions1 = []\n",
    "    list_fractions3 = []"
   ]
  },
  {
   "cell_type": "code",
   "execution_count": 15,
   "metadata": {
    "scrolled": true
   },
   "outputs": [
    {
     "data": {
      "image/png": "[encoded data removed]",
      "text/plain": [
       "<Figure size 640x320 with 1 Axes>"
      ]
     },
     "metadata": {},
     "output_type": "display_data"
    }
   ],
   "source": [
    "figure(num=None, figsize=(8, 4), dpi=80, facecolor='w', edgecolor='k')\n",
    "plt.plot(fractions,list1_avg,label='Monk1 dataset')\n",
    "plt.plot(fractions,list3_avg,label='Monk3 dataset')\n",
    "plt.legend()\n",
    "plt.xlabel(\"Split fraction\")\n",
    "plt.ylabel(\"Classification Error Mean\")\n",
    "plt.show()"
   ]
  },
  {
   "cell_type": "code",
   "execution_count": 16,
   "metadata": {},
   "outputs": [
    {
     "data": {
      "image/png": "[encoded data removed]",
      "text/plain": [
       "<Figure size 640x320 with 1 Axes>"
      ]
     },
     "metadata": {},
     "output_type": "display_data"
    }
   ],
   "source": [
    "figure(num=None, figsize=(8, 4), dpi=80, facecolor='w', edgecolor='k')\n",
    "plt.plot(fractions,list1_std,label='Monk1 dataset')\n",
    "plt.plot(fractions,list3_std,label='Monk3 dataset')\n",
    "plt.legend()\n",
    "plt.xlabel(\"Split fraction\")\n",
    "plt.ylabel(\"Variance of Classification Error\")\n",
    "plt.show()"
   ]
  },
  {
   "cell_type": "markdown",
   "metadata": {},
   "source": [
    "In both datasets the average error is decreasing when increasing the split fraction, so chosing a fraction of 0.8 will be ok. For the variance, both classification errors have a low variance, thus the error is close to some particular mean (not highly spread)."
   ]
  },
  {
   "cell_type": "markdown",
   "metadata": {},
   "source": [
    "## Assignment 7 with Seed\n",
    "Using random with a fixed seed"
   ]
  },
  {
   "cell_type": "code",
   "execution_count": 17,
   "metadata": {},
   "outputs": [
    {
     "data": {
      "image/png": "[encoded data removed]",
      "text/plain": [
       "<Figure size 640x320 with 1 Axes>"
      ]
     },
     "metadata": {},
     "output_type": "display_data"
    }
   ],
   "source": [
    "def partitionWithSeed(data, fraction):\n",
    "    random.seed(50)\n",
    "    ldata = list(data)\n",
    "    random.shuffle(ldata)\n",
    "    breakPoint = int(len(ldata) * fraction)\n",
    "    return ldata[:breakPoint], ldata[breakPoint:]\n",
    "\n",
    "list1_seed = [] # y-axis for monk1\n",
    "list3_seed = [] # y-axis for monk3\n",
    "\n",
    "fractions = [0.3, 0.4, 0.5, 0.6, 0.7, 0.8] # fractions on x-axis\n",
    "\n",
    "for fraction in fractions:\n",
    "    #print(\"\\nFor Monk1 dataset with fraction \", fraction, \":\")\n",
    "    monk1train_seed, monk1val_seed = partitionWithSeed(m.monk1, fraction)\n",
    "    list1_seed.append(1-dtree.check(bestTreeAfterPruning(monk1train_seed, monk1val_seed), m.monk1test))\n",
    "    \n",
    "    #print(\"\\nFor Monk3 dataset with fraction \", fraction, \":\")\n",
    "    monk3train_seed, monk3val_seed = partitionWithSeed(m.monk3, fraction)\n",
    "    list3_seed.append(1-dtree.check(bestTreeAfterPruning(monk3train_seed, monk3val_seed), m.monk3test))\n",
    "\n",
    "figure(num=None, figsize=(8, 4), dpi=80, facecolor='w', edgecolor='k')\n",
    "plt.plot(fractions,list1_seed,label='Monk1 dataset')\n",
    "plt.plot(fractions,list3_seed,label='Monk3 dataset')\n",
    "plt.legend()\n",
    "plt.xlabel(\"Split fraction\")\n",
    "plt.ylabel(\"Classification error\")\n",
    "plt.show()"
   ]
  },
  {
   "cell_type": "markdown",
   "metadata": {},
   "source": [
    "For monk3 a partition fraction of 0.7 would be optimal because we can notice that the error stabilizes after 0.7 (remains constant).\n",
    "For monk1 a faction of 0.8 is optimal because the classification error is minimum."
   ]
  }
 ],
 "metadata": {
  "kernelspec": {
   "display_name": "Python 3",
   "language": "python",
   "name": "python3"
  },
  "language_info": {
   "codemirror_mode": {
    "name": "ipython",
    "version": 3
   },
   "file_extension": ".py",
   "mimetype": "text/x-python",
   "name": "python",
   "nbconvert_exporter": "python",
   "pygments_lexer": "ipython3",
   "version": "3.8.0"
  }
 },
 "nbformat": 4,
 "nbformat_minor": 4
}
